{
 "cells": [
  {
   "cell_type": "code",
   "execution_count": 30,
   "metadata": {},
   "outputs": [
    {
     "name": "stdout",
     "output_type": "stream",
     "text": [
      "99 %\n",
      "Time to read file:  0.015282630920410156 \n",
      "Time to process:  163.1687526702881 \n",
      "Time to save file:  0.3217811584472656 \n",
      "Total time:  163.5060441493988\n"
     ]
    }
   ],
   "source": [
    "import numpy as np\n",
    "from PIL import Image\n",
    "import colorsys as cs\n",
    "import os\n",
    "import math\n",
    "import time\n",
    "from IPython.display import clear_output\n",
    "\n",
    "time_start = time.time()\n",
    "\n",
    "sector_size = 8\n",
    "input_file_name = \"./john.png\"\n",
    "\n",
    "pixels = np.asarray(Image.open(input_file_name))\n",
    "\n",
    "res = np.zeros_like(pixels)\n",
    "(height, width, bands) = pixels.shape\n",
    "\n",
    "time_read_file = time.time()\n",
    "\n",
    "def kuwahara(dataset, i, j):\n",
    "    sector1 = dataset[i - sector_size : i, j - sector_size : j]\n",
    "    sector2 = dataset[i : i + sector_size, j - sector_size : j]\n",
    "    sector4 = dataset[i - sector_size : i, j : j + sector_size]\n",
    "    sector3 = dataset[i : i + sector_size, j : j + sector_size]\n",
    "    sectors = [sector1, sector2, sector3, sector4]\n",
    "    clr = [0, 0, 0]\n",
    "    minStd = 5000\n",
    "    for sector in sectors:\n",
    "        (width,height,bands) = sector.shape\n",
    "        if(width == 0 or height == 0): continue\n",
    "        avg_color = np.mean(sector, axis=(0,1))\n",
    "        std = np.std(sector)\n",
    "        if std <= minStd:\n",
    "            minStd = std\n",
    "            clr = avg_color\n",
    "    return clr\n",
    "\n",
    "\n",
    "time_start_processing = time.time()\n",
    "\n",
    "end = height * width\n",
    "prev_percent = 0\n",
    "for i in range(height):\n",
    "    for j in range(width):\n",
    "        \n",
    "        cur = height * i + j\n",
    "        percent = math.floor((cur/end * 100))\n",
    "        if (prev_percent != percent):\n",
    "            prev_percent = percent\n",
    "            clear_output(wait=False)\n",
    "            print(percent,\"%\")\n",
    "        \n",
    "\n",
    "        res[i, j] = kuwahara(pixels, i, j)\n",
    "\n",
    "time_end_processing = time.time()\n",
    "\n",
    "\n",
    "Image.fromarray(res).save(os.path.splitext(input_file_name)[0] + \"-out-\" + str(sector_size) +\"px\" + \".png\")\n",
    "time_save = time.time()\n",
    "\n",
    "print(\n",
    "    \"Time to read file: \", time_read_file - time_start,\n",
    "    \"\\nTime to process: \", time_end_processing - time_start_processing,\n",
    "    \"\\nTime to save file: \", time_save - time_end_processing,\n",
    "    \"\\nTotal time: \", time_save - time_start\n",
    ")"
   ]
  },
  {
   "cell_type": "code",
   "execution_count": null,
   "metadata": {},
   "outputs": [],
   "source": [
    "test_arr = np.array([\n",
    "    [\n",
    "        [1,2,3],\n",
    "        [1,2,3],[1,2,3],\n",
    "    ],\n",
    "    [\n",
    "        [6,2,3],[1,2,3],[1,2,3],\n",
    "    ],\n",
    "    [\n",
    "       [1,2,3],[1,2,3],[1,2,3],\n",
    "    ]\n",
    "])\n",
    "display(test_arr)\n",
    "np.mean(test_arr, axis=(0,1))"
   ]
  }
 ],
 "metadata": {
  "kernelspec": {
   "display_name": "Python 3",
   "language": "python",
   "name": "python3"
  },
  "language_info": {
   "codemirror_mode": {
    "name": "ipython",
    "version": 3
   },
   "file_extension": ".py",
   "mimetype": "text/x-python",
   "name": "python",
   "nbconvert_exporter": "python",
   "pygments_lexer": "ipython3",
   "version": "3.11.5"
  }
 },
 "nbformat": 4,
 "nbformat_minor": 2
}
